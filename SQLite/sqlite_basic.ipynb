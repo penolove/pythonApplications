{
 "cells": [
  {
   "cell_type": "markdown",
   "metadata": {},
   "source": [
    "# Sqlite basic"
   ]
  },
  {
   "cell_type": "code",
   "execution_count": 3,
   "metadata": {
    "collapsed": true
   },
   "outputs": [],
   "source": [
    "import sqlite3\n",
    "con = sqlite3.connect('starbucks.sqlite')\n",
    "cursor = con.cursor()\n"
   ]
  },
  {
   "cell_type": "markdown",
   "metadata": {},
   "source": [
    "## select from"
   ]
  },
  {
   "cell_type": "code",
   "execution_count": null,
   "metadata": {
    "collapsed": false
   },
   "outputs": [],
   "source": [
    "# select from DB\n",
    "cursor.execute(\"SELECT * FROM pushdata;\")\n",
    "results=cursor.fetchall()"
   ]
  },
  {
   "cell_type": "code",
   "execution_count": null,
   "metadata": {
    "collapsed": false
   },
   "outputs": [],
   "source": [
    "results"
   ]
  },
  {
   "cell_type": "code",
   "execution_count": null,
   "metadata": {
    "collapsed": true
   },
   "outputs": [],
   "source": [
    "cursor.execute(\"SELECT ID FROM pushdata;\")\n",
    "result_Ids_tuple=cursor.fetchall()"
   ]
  },
  {
   "cell_type": "code",
   "execution_count": null,
   "metadata": {
    "collapsed": false
   },
   "outputs": [],
   "source": [
    "result_Ids_tuple"
   ]
  },
  {
   "cell_type": "code",
   "execution_count": null,
   "metadata": {
    "collapsed": false
   },
   "outputs": [],
   "source": [
    "len(result_Ids_tuple[1])"
   ]
  },
  {
   "cell_type": "code",
   "execution_count": null,
   "metadata": {
    "collapsed": false
   },
   "outputs": [],
   "source": [
    "result_Ids=[i[0] for i in result_Ids_tuple]\n",
    "result_Ids"
   ]
  },
  {
   "cell_type": "code",
   "execution_count": null,
   "metadata": {
    "collapsed": false
   },
   "outputs": [],
   "source": [
    "wordCount=dict()\n",
    "for i in result_Ids:\n",
    "    wordCount[i]=wordCount.get(i,0)+1"
   ]
  },
  {
   "cell_type": "code",
   "execution_count": null,
   "metadata": {
    "collapsed": false,
    "scrolled": true
   },
   "outputs": [],
   "source": [
    "wordCount"
   ]
  },
  {
   "cell_type": "code",
   "execution_count": null,
   "metadata": {
    "collapsed": false
   },
   "outputs": [],
   "source": [
    "wordCount.items()[1:5]"
   ]
  },
  {
   "cell_type": "code",
   "execution_count": null,
   "metadata": {
    "collapsed": false
   },
   "outputs": [],
   "source": [
    "#http://stackoverflow.com/questions/613183/sort-a-python-dictionary-by-value\n",
    "import operator\n",
    "sorted_x = sorted(wordCount.items(), key=operator.itemgetter(1),reverse=True)[:5]\n",
    "sorted_x"
   ]
  },
  {
   "cell_type": "code",
   "execution_count": null,
   "metadata": {
    "collapsed": false,
    "scrolled": true
   },
   "outputs": [],
   "source": [
    "#https://docs.python.org/2/howto/sorting.html\n",
    "topfive_id=sorted(wordCount.items(),key=lambda x:x[1],reverse=True)[:5]\n",
    "print topfive_id"
   ]
  },
  {
   "cell_type": "markdown",
   "metadata": {},
   "source": [
    "## select from where "
   ]
  },
  {
   "cell_type": "code",
   "execution_count": null,
   "metadata": {
    "collapsed": false
   },
   "outputs": [],
   "source": [
    "cursor.execute(\"SELECT pushsb,ID FROM pushdata WHERE pushsb=1;\")\n",
    "results=cursor.fetchall()"
   ]
  },
  {
   "cell_type": "code",
   "execution_count": null,
   "metadata": {
    "collapsed": false,
    "scrolled": true
   },
   "outputs": [],
   "source": [
    "results"
   ]
  },
  {
   "cell_type": "markdown",
   "metadata": {},
   "source": [
    "## Insert"
   ]
  },
  {
   "cell_type": "code",
   "execution_count": null,
   "metadata": {
    "collapsed": false,
    "scrolled": true
   },
   "outputs": [],
   "source": [
    "# Insert into pushdata (text,text,real,text)\n",
    "pushMessage = ('zhow', '3cup' , 1, '03/04 23:39')    \n",
    "cursor.execute('INSERT INTO pushdata VALUES (?,?,?,?)', pushMessage)"
   ]
  },
  {
   "cell_type": "code",
   "execution_count": null,
   "metadata": {
    "collapsed": false
   },
   "outputs": [],
   "source": [
    "con.commit()"
   ]
  },
  {
   "cell_type": "code",
   "execution_count": null,
   "metadata": {
    "collapsed": false
   },
   "outputs": [],
   "source": [
    "#once more queries\n",
    "pushMessages = [('zhow', '3cup!!!' , 1, '03/04 23:40'),\n",
    "                ('zhow', 'man show gun' , 1, '03/04 23:40'),\n",
    "                ('zhow', 'momo shoping' , 1, '03/04 23:40')]\n",
    "\n",
    "cursor.executemany('INSERT INTO pushdata VALUES (?,?,?,?)', pushMessages)\n",
    "con.commit()"
   ]
  },
  {
   "cell_type": "markdown",
   "metadata": {},
   "source": [
    "## Delete"
   ]
  },
  {
   "cell_type": "code",
   "execution_count": null,
   "metadata": {
    "collapsed": false
   },
   "outputs": [],
   "source": [
    "cursor.execute('DELETE FROM pushdata WHERE ID=\"zhow\";')"
   ]
  },
  {
   "cell_type": "code",
   "execution_count": null,
   "metadata": {
    "collapsed": true
   },
   "outputs": [],
   "source": [
    "con.commit()"
   ]
  },
  {
   "cell_type": "markdown",
   "metadata": {},
   "source": [
    "## create table"
   ]
  },
  {
   "cell_type": "code",
   "execution_count": null,
   "metadata": {
    "collapsed": false
   },
   "outputs": [],
   "source": [
    "cursor.execute('''CREATE TABLE fequent_ID(ID text, times real)''')\n",
    "con.commit()\n"
   ]
  },
  {
   "cell_type": "code",
   "execution_count": null,
   "metadata": {
    "collapsed": false
   },
   "outputs": [],
   "source": [
    "print topfive_id"
   ]
  },
  {
   "cell_type": "code",
   "execution_count": null,
   "metadata": {
    "collapsed": false
   },
   "outputs": [],
   "source": [
    "\n",
    "cursor.executemany('INSERT INTO fequent_ID VALUES (?,?)', topfive_id)\n",
    "con.commit()"
   ]
  },
  {
   "cell_type": "markdown",
   "metadata": {},
   "source": [
    "# cut the chinese words!!!\n",
    "https://github.com/fxsjy/jieba\n",
    "\n",
    "pip install jieba "
   ]
  },
  {
   "cell_type": "code",
   "execution_count": null,
   "metadata": {
    "collapsed": false
   },
   "outputs": [],
   "source": [
    "# encoding=utf-8\n",
    "import jieba\n",
    "\n",
    "seg_list = jieba.cut(\"我来到北京清华大学\", cut_all=True)\n",
    "print(\"Full Mode: \" + \"/ \".join(seg_list))  # 全模式\n",
    "\n",
    "seg_list = jieba.cut(\"我来到北京清华大学\", cut_all=False)\n",
    "print(\"Default Mode: \" + \"/ \".join(seg_list))  # 精确模式"
   ]
  },
  {
   "cell_type": "code",
   "execution_count": null,
   "metadata": {
    "collapsed": false
   },
   "outputs": [],
   "source": [
    "seg_list = jieba.cut(\"永藍叫貢九逃\", cut_all=False)\n",
    "print(\"Default Mode: \" + \"/ \".join(seg_list))  # 精确模式"
   ]
  },
  {
   "cell_type": "code",
   "execution_count": null,
   "metadata": {
    "collapsed": false
   },
   "outputs": [],
   "source": [
    "\n",
    "cursor.execute(\"SELECT * FROM pushdata WHERE rowid=234;\")\n",
    "\n",
    "results=cursor.fetchall()"
   ]
  },
  {
   "cell_type": "code",
   "execution_count": null,
   "metadata": {
    "collapsed": true
   },
   "outputs": [],
   "source": [
    "print results[0][1]\n",
    "print type(results[0][1])\n",
    "print type(\"永藍叫貢九逃\")\n",
    "results[0][1]"
   ]
  },
  {
   "cell_type": "code",
   "execution_count": null,
   "metadata": {
    "collapsed": false
   },
   "outputs": [],
   "source": [
    "seg_list = jieba.cut(results[0][1], cut_all=False)\n",
    "print(\"Default Mode: \" + \"/ \".join(seg_list))  # 精确模式"
   ]
  },
  {
   "cell_type": "markdown",
   "metadata": {},
   "source": [
    "# Excersice\n",
    "\n",
    "(a) plz give me top five fequenct word of 3/05(rowid <=5183)\n",
    "\n",
    "(b) plz create a table records 3/05's top five fequently pushed word with (Data text, Word text, times real)\n",
    "\n",
    "(c) using excutemany to insert into DB\n",
    "\n",
    "(d) delete the rows you add in (by rowid/date)"
   ]
  },
  {
   "cell_type": "markdown",
   "metadata": {},
   "source": [
    "## select from DB"
   ]
  },
  {
   "cell_type": "code",
   "execution_count": 4,
   "metadata": {
    "collapsed": false
   },
   "outputs": [
    {
     "data": {
      "text/plain": [
       "5183"
      ]
     },
     "execution_count": 4,
     "metadata": {},
     "output_type": "execute_result"
    }
   ],
   "source": [
    "################### You should feed SQL here########################\n",
    "cursor.execute(\"select * from webptt where rowid<=5183\")\n",
    "################### You should feed SQL here########################\n",
    "\n",
    "results=cursor.fetchall()\n",
    "len(results)"
   ]
  },
  {
   "cell_type": "code",
   "execution_count": 5,
   "metadata": {
    "collapsed": false
   },
   "outputs": [
    {
     "name": "stdout",
     "output_type": "stream",
     "text": [
      ": 你贏惹\n",
      ": 這張真的很讚\n",
      "你贏惹\n",
      "這張真的很讚\n"
     ]
    }
   ],
   "source": [
    "#string processing\n",
    "print results[0][2]\n",
    "print results[1][2]\n",
    "print results[0][2].replace(': ','')\n",
    "print results[1][2].replace(': ','')"
   ]
  },
  {
   "cell_type": "code",
   "execution_count": 6,
   "metadata": {
    "collapsed": false
   },
   "outputs": [
    {
     "name": "stderr",
     "output_type": "stream",
     "text": [
      "Building prefix dict from the default dictionary ...\n",
      "Loading model from cache /tmp/jieba.cache\n",
      "Loading model cost 0.259 seconds.\n",
      "Prefix dict has been built succesfully.\n"
     ]
    }
   ],
   "source": [
    "import jieba\n",
    "#cut the words\n",
    "processed_results=[jieba.lcut(i[2].replace(':',''), cut_all=False) for i in results]"
   ]
  },
  {
   "cell_type": "code",
   "execution_count": 7,
   "metadata": {
    "collapsed": false
   },
   "outputs": [
    {
     "name": "stdout",
     "output_type": "stream",
     "text": [
      " \n",
      "你\n",
      "贏惹\n"
     ]
    }
   ],
   "source": [
    "for i in processed_results[0]:\n",
    "    print i"
   ]
  },
  {
   "cell_type": "code",
   "execution_count": 8,
   "metadata": {
    "collapsed": false
   },
   "outputs": [],
   "source": [
    "wordCount=dict()\n",
    "for i in processed_results:\n",
    "    for j in i:\n",
    "        wordCount[j]=wordCount.get(j,0)+1"
   ]
  },
  {
   "cell_type": "code",
   "execution_count": 9,
   "metadata": {
    "collapsed": false
   },
   "outputs": [
    {
     "name": "stdout",
     "output_type": "stream",
     "text": [
      "  7673\n",
      "的 1069\n",
      "! 792\n",
      "了 735\n",
      "， 553\n",
      "是 448\n",
      "你 418\n",
      "~ 410\n",
      "我 311\n",
      "有 310\n",
      "！ 310\n",
      "? 307\n",
      "推 264\n",
      "好 249\n",
      "就 245\n"
     ]
    }
   ],
   "source": [
    "topfive_id=sorted(wordCount.items(),key=lambda x:x[1],reverse=True)[:15]\n",
    "for i in  topfive_id:\n",
    "    print i[0]+\" \"+str(i[1])"
   ]
  },
  {
   "cell_type": "markdown",
   "metadata": {},
   "source": [
    "## There are too many garbege"
   ]
  },
  {
   "cell_type": "code",
   "execution_count": 10,
   "metadata": {
    "collapsed": false
   },
   "outputs": [
    {
     "data": {
      "text/plain": [
       "[u'the', u'of', u'is', u'and', u'to']"
      ]
     },
     "execution_count": 10,
     "metadata": {},
     "output_type": "execute_result"
    }
   ],
   "source": [
    "stopw = [line.strip().decode('utf-8') for line in open('stop_words.txt').readlines()]\n",
    "stopw[:5]"
   ]
  },
  {
   "cell_type": "code",
   "execution_count": 11,
   "metadata": {
    "collapsed": true
   },
   "outputs": [],
   "source": [
    "def list_rm_stops(x):\n",
    "    return list(set(x)-set(stopw))"
   ]
  },
  {
   "cell_type": "code",
   "execution_count": 12,
   "metadata": {
    "collapsed": false
   },
   "outputs": [],
   "source": [
    "# remove the useless words!!\n",
    "jieba.add_word('馬英九')\n",
    "processed_results=[list_rm_stops(jieba.lcut(i[2].replace(':',''), cut_all=False)) for i in results]"
   ]
  },
  {
   "cell_type": "code",
   "execution_count": 13,
   "metadata": {
    "collapsed": false,
    "scrolled": true
   },
   "outputs": [
    {
     "name": "stdout",
     "output_type": "stream",
     "text": [
      "推 264\n",
      "幹 172\n",
      "高調 105\n",
      "房東 93\n",
      "XD 91\n",
      "努力 85\n",
      "2.0 65\n",
      "崩潰 61\n",
      "輕人 57\n",
      "幫高調 55\n",
      "po 53\n",
      "做 51\n",
      "馬 51\n",
      "一堆 51\n",
      "自己 51\n"
     ]
    }
   ],
   "source": [
    "wordCount=dict()\n",
    "for i in processed_results:\n",
    "    for j in i:\n",
    "        if j!=' ':\n",
    "            wordCount[j]=wordCount.get(j,0)+1\n",
    "topfive_id=sorted(wordCount.items(),key=lambda x:x[1],reverse=True)[:15]\n",
    "for i in  topfive_id:\n",
    "    print i[0]+\" \"+str(i[1])"
   ]
  },
  {
   "cell_type": "code",
   "execution_count": 14,
   "metadata": {
    "collapsed": false
   },
   "outputs": [],
   "source": [
    "from operator import itemgetter\n",
    "\n",
    "item1 = itemgetter(1)\n",
    "\n",
    "frequencies = sorted(wordCount.items(), key=item1, reverse=True)"
   ]
  },
  {
   "cell_type": "code",
   "execution_count": 15,
   "metadata": {
    "collapsed": false
   },
   "outputs": [
    {
     "data": {
      "text/plain": [
       "[(u'\\u63a8', 264),\n",
       " (u'\\u5e79', 172),\n",
       " (u'\\u9ad8\\u8abf', 105),\n",
       " (u'\\u623f\\u6771', 93),\n",
       " (u'XD', 91),\n",
       " (u'\\u52aa\\u529b', 85),\n",
       " (u'2.0', 65),\n",
       " (u'\\u5d29\\u6f70', 61),\n",
       " (u'\\u8f15\\u4eba', 57),\n",
       " (u'\\u5e6b\\u9ad8\\u8abf', 55),\n",
       " (u'po', 53),\n",
       " (u'\\u505a', 51),\n",
       " (u'\\u99ac', 51),\n",
       " (u'\\u4e00\\u5806', 51),\n",
       " (u'\\u81ea\\u5df1', 51),\n",
       " (u'\\u9322', 51),\n",
       " (u'\\u539f', 50),\n",
       " (u'KMT', 50),\n",
       " (u'\\u61c9\\u8a72', 50),\n",
       " (u'\\u4e00\\u5b9a', 49),\n",
       " (u'\\u8a71', 49),\n",
       " (u'\\u5c08\\u696d', 49),\n",
       " (u'\\u5a18', 49),\n",
       " (u'\\u570b\\u6c11\\u9ee8', 48),\n",
       " (u'..', 48),\n",
       " (u'\\u5c0d', 48),\n",
       " (u'\\u5979', 47),\n",
       " (u'>', 47),\n",
       " (u'\\u6839\\u672c', 47),\n",
       " (u'\\u518d', 47),\n",
       " (u'\\u77e5\\u9053', 47),\n",
       " (u'\\u9084\\u662f', 47),\n",
       " (u'\\u4e0d\\u6703', 47),\n",
       " (u'\\u628a', 47),\n",
       " (u'.', 45),\n",
       " (u'....', 45),\n",
       " (u'\\u6253', 44),\n",
       " (u'\\u53f0\\u7063', 44),\n",
       " (u'\\u6bd4', 42),\n",
       " (u'\\u5783\\u573e', 42),\n",
       " (u'<', 42),\n",
       " (u'\\u6b7b', 42),\n",
       " (u'\\u8ab0', 41),\n",
       " (u'\\uff1a', 41),\n",
       " (u'(', 41),\n",
       " (u'\\u73fe\\u5728', 41),\n",
       " (u'\\u842c', 40),\n",
       " (u'1', 40),\n",
       " (u'\\u86c6', 40),\n",
       " (u'\\u5361\\u4f4d', 39),\n",
       " (u'XDDD', 39),\n",
       " (u'\\u8001', 39),\n",
       " (u'\\u7206', 39),\n",
       " (u')', 39),\n",
       " (u'\\u771f', 39),\n",
       " (u'\\u500b', 38),\n",
       " (u'\\u9019\\u9ebc', 37),\n",
       " (u'\\u81c9', 36),\n",
       " (u'\\u9019\\u500b', 35),\n",
       " (u'\\u98db\\u6a5f\\u738b', 35),\n",
       " (u'\\u6709\\u4eba', 35),\n",
       " (u'XDDDD', 35),\n",
       " (u'\\u54c8\\u54c8', 35),\n",
       " (u'\\u9760', 34),\n",
       " (u'\\u9577', 34),\n",
       " (u'\\u62ff', 34),\n",
       " (u'\\u89ba\\u5f97', 34),\n",
       " (u'-', 34),\n",
       " (u'\\u5927\\u5bb6', 33),\n",
       " (u'\\u5148', 33),\n",
       " (u'\\u7b11', 33),\n",
       " (u'\\u597d\\u50cf', 33),\n",
       " (u'\\u74f7\\u5668', 33),\n",
       " (u'\\u770b\\u5230', 32),\n",
       " (u'\\u592a\\u626f', 32),\n",
       " (u'\\u7528', 32),\n",
       " (u'\\u5641', 32),\n",
       " (u'\\u5e6b', 32),\n",
       " (u'\\u5011', 32),\n",
       " (u'\\u53eb', 31),\n",
       " (u'\\u8acb', 31),\n",
       " (u'\\u80fd', 31),\n",
       " (u'\\u5c0f', 31),\n",
       " (u'\\u50cf', 31),\n",
       " (u'\\u559d', 31),\n",
       " (u'=', 31),\n",
       " (u'\\u807d', 30),\n",
       " (u'\\u4e0d\\u80fd', 30),\n",
       " (u'\\u5927', 30),\n",
       " (u'\\u6efe', 30),\n",
       " (u'\\u516b\\u5366', 30),\n",
       " (u'\\u8036', 30),\n",
       " (u'\\u4e00\\u6a23', 30),\n",
       " (u'\\uff5e', 29),\n",
       " (u'\\u9084\\u6709', 29),\n",
       " (u'\\u53ef\\u6015', 29),\n",
       " (u'\\u5653', 28),\n",
       " (u'\\u4e00\\u4e0b', 28),\n",
       " (u'\\u51fa\\u4f86', 28),\n",
       " (u'\\u8b9a', 28),\n",
       " (u'\\u516c\\u53f8', 28),\n",
       " (u'\\u5206\\u914d', 27),\n",
       " (u'\\u6253\\u4eba', 27),\n",
       " (u'\\u9ec3', 27),\n",
       " (u'\\u7e7c\\u7e8c', 27),\n",
       " (u'\\u53ef\\u60dc', 27),\n",
       " (u'P', 27),\n",
       " (u'9.2', 26),\n",
       " (u'\\u54ea', 26),\n",
       " (u'\\u6240\\u4ee5', 26),\n",
       " (u'\\u4f46', 26),\n",
       " (u'\\u8a87\\u5f35', 26),\n",
       " (u'\\u5df2\\u7d93', 26),\n",
       " (u'\\u4e2d\\u80af', 25),\n",
       " (u'\\u9019\\u4e9b', 25),\n",
       " (u'\\u67ef', 25),\n",
       " (u'\\u5168\\u5bb6', 25),\n",
       " (u'kmt', 25),\n",
       " (u'\\u5fc3', 25),\n",
       " (u'\\u90e8\\u9577', 25),\n",
       " (u'\\u5f88\\u591a', 25),\n",
       " (u'\\u8b66\\u5bdf', 24),\n",
       " (u'\\u5b8c', 24),\n",
       " (u'\\u723d', 24),\n",
       " (u'XDDDDD', 24),\n",
       " (u'\\u60f9', 24),\n",
       " (u'\\u65b0\\u805e', 24),\n",
       " (u'\\u4e4b\\u524d', 24),\n",
       " (u'\\u90a3\\u9ebc', 24),\n",
       " (u'\\u58de', 24),\n",
       " (u'\\u6700', 24),\n",
       " (u'\\u61c2', 23),\n",
       " (u'\\u8f9b\\u82e6', 23),\n",
       " (u'\\u3001', 23),\n",
       " (u'\\u8a18\\u5f97', 23),\n",
       " (u'\\u8d70', 23),\n",
       " (u'\\u3000', 23),\n",
       " (u'\\u8cfa', 23),\n",
       " (u'\\u627e', 23),\n",
       " (u'17', 23),\n",
       " (u'\\u5982\\u679c', 23),\n",
       " (u'\\u8a72', 23),\n",
       " (u'\\u5230\\u5e95', 23),\n",
       " (u'XDD', 23),\n",
       " (u'\\u6cd5\\u5f8b', 22),\n",
       " (u'\\u90a3\\u500b', 22),\n",
       " (u'pollo', 22),\n",
       " (u'\\u4f4f', 22),\n",
       " (u'\\u505a\\u4e8b', 22),\n",
       " (u'\\u653f\\u5e9c', 22),\n",
       " (u'\\u4e0d\\u932f', 22),\n",
       " (u'\\u59b3', 22),\n",
       " (u'\\u66f4', 22),\n",
       " (u'\\u4e0d\\u7528', 22),\n",
       " (u'\\u53ea', 22),\n",
       " (u'\\u53cd\\u89c0', 22),\n",
       " (u'\\u8f03', 22),\n",
       " (u'\\u5c4e', 22),\n",
       " (u'\\u9084', 21),\n",
       " (u'\\u5176\\u5be6', 21),\n",
       " (u'\\u8ce3', 21),\n",
       " (u'\\u8a18\\u8005', 21),\n",
       " (u'\\u554f\\u984c', 21),\n",
       " (u'\\u6709\\u9ede', 21),\n",
       " (u'\\u597d\\u559d', 21),\n",
       " (u'\\u6148\\u6fdf', 21),\n",
       " (u'\\u6708', 21),\n",
       " (u'\\u7bc0\\u76ee', 21),\n",
       " (u'\\u9019\\u662f', 21),\n",
       " (u'\\u79df\\u5c4b', 20),\n",
       " (u'\\u53ea\\u662f', 20),\n",
       " (u'\\u6876', 20),\n",
       " (u'\\u4e00\\u76f4', 20),\n",
       " (u'\\u62cd\\u62cd', 20),\n",
       " (u'7', 20),\n",
       " (u'\\u9ee8', 20),\n",
       " (u'\\u6f14\\u6232', 20),\n",
       " (u'\\u8dd1', 20),\n",
       " (u'@', 20),\n",
       " (u'\\u96de\\u6392', 20),\n",
       " (u'\\u8d85', 20),\n",
       " (u'\"', 20),\n",
       " (u'\\u5462', 19),\n",
       " (u'\\u8a17', 19),\n",
       " (u'\\u800c\\u5df2', 19),\n",
       " (u'\\u6284', 19),\n",
       " (u'/', 19),\n",
       " (u'\\u8932\\u5b50', 19),\n",
       " (u'\\u4eca\\u5929', 19),\n",
       " (u'\\u81fa', 19),\n",
       " (u'\\u4e00', 19),\n",
       " (u'\\u4e0d\\u6562', 19),\n",
       " (u'\\u623f\\u5ba2', 19),\n",
       " (u'\\u672c\\u4eba', 19),\n",
       " (u'\\u53ea\\u6709', 19),\n",
       " (u'\\u65b0', 19),\n",
       " (u'\\u62dc', 19),\n",
       " (u'\\u7d93\\u6fdf', 18),\n",
       " (u'\\u8001\\u5e2b', 18),\n",
       " (u'\\u5143', 18),\n",
       " (u'\\u5e0c\\u671b', 18),\n",
       " (u'\\u53ef\\u80fd', 18),\n",
       " (u'\\u561b', 18),\n",
       " (u'\\u4eba\\u5bb6', 18),\n",
       " (u'\\u6642\\u5019', 18),\n",
       " (u'\\u7b49', 18),\n",
       " (u'\\u4e00\\u6b21', 17),\n",
       " (u'\\u79d2', 17),\n",
       " (u'\\u88ab\\u544a', 17),\n",
       " (u'\\u5176\\u4ed6', 17),\n",
       " (u'\\u694a', 17),\n",
       " (u'\\u559c\\u6b61', 17),\n",
       " (u'\\u770b\\u770b', 17),\n",
       " (u'100', 17),\n",
       " (u'\\u5b8c\\u5168', 17),\n",
       " (u'\\u5a01\\u5229', 17),\n",
       " (u'\\u8001\\u4eba', 17),\n",
       " (u'4', 17),\n",
       " (u'.....', 17),\n",
       " (u'\\u539f\\u4f86', 17),\n",
       " (u'\\u4ee5\\u524d', 17),\n",
       " (u'\\u4e00\\u8d77', 17),\n",
       " (u'5', 17),\n",
       " (u'\\u53ea\\u80fd', 17),\n",
       " (u'\\u56c9', 16),\n",
       " (u'vs', 16),\n",
       " (u'......', 16),\n",
       " (u'QQ', 16),\n",
       " (u'\\u6771', 16),\n",
       " (u'\\u77e5\\u8b58', 16),\n",
       " (u'\\u79ae\\u8c8c', 16),\n",
       " (u'\\u771f\\u662f', 16),\n",
       " (u'\\u570b\\u660c', 16),\n",
       " (u'\\u4e0b', 16),\n",
       " (u'\\u738b', 16),\n",
       " (u'\\u6f3f', 16),\n",
       " (u'\\u4e0d\\u5230', 16),\n",
       " (u'\\u610f\\u5916', 16),\n",
       " (u'\\u4f60\\u5abd', 16),\n",
       " (u'\\u54c8\\u54c8\\u54c8', 16),\n",
       " (u'\\u63a8\\u63a8', 16),\n",
       " (u'\\u8c46\\u6f3f', 15),\n",
       " (u'\\u9078', 15),\n",
       " (u'\\u62c9', 15),\n",
       " (u'\\u63e1\\u624b', 15),\n",
       " (u'\\u5440', 15),\n",
       " (u'\\u8fa6', 15),\n",
       " (u'\\u4ee5', 15),\n",
       " (u'30', 15),\n",
       " (u'\\u679c\\u7136', 15),\n",
       " (u'\\u7167\\u7247', 15),\n",
       " (u'\\u4e0b\\u53bb', 15),\n",
       " (u'\\u95c6', 15),\n",
       " (u'\\u4e8b', 15),\n",
       " (u'\\u8ac7', 14),\n",
       " (u'\\u5929', 14),\n",
       " (u'\\u5225', 14),\n",
       " (u'\\u62b5\\u5236', 14),\n",
       " (u'\\u90a3\\u4e9b', 14),\n",
       " (u'\\u602a', 14),\n",
       " (u'\\u4e09\\u660e\\u6cbb', 14),\n",
       " (u'\\u4e0d\\u904e', 14),\n",
       " (u'\\u4e0a\\u6f54', 14),\n",
       " (u'\\u652f\\u6301', 14),\n",
       " (u'\\u5f15\\u7206', 14),\n",
       " (u'\\u4f01\\u696d', 14),\n",
       " (u'\\u623f\\u5b50', 14),\n",
       " (u'\\u7a7f', 14),\n",
       " (u'\\u5b78\\u751f', 14),\n",
       " (u'\\u99ac\\u82f1\\u4e5d', 14),\n",
       " (u'\\u4e00\\u9ede', 14),\n",
       " (u'\\u65bc', 14),\n",
       " (u'\\u592a\\u8a87\\u5f35', 13),\n",
       " (u'\\u8d8a', 13),\n",
       " (u'\\u7576', 13),\n",
       " (u'\\u6389', 13),\n",
       " (u'\\u661f\\u5149', 13),\n",
       " (u'\\u7248', 13),\n",
       " (u'\\u4e4b', 13),\n",
       " (u'\\u300c', 13),\n",
       " (u'\\u96e3', 13),\n",
       " (u'\\u9019\\u7bc7', 13),\n",
       " (u'\\u6f58\\u91ab\\u5e2b', 13),\n",
       " (u'\\u505a\\u79c0', 13),\n",
       " (u'\\u5ee2\\u8a71', 13),\n",
       " (u'PO', 13),\n",
       " (u'\\u64cd', 13),\n",
       " (u'\\u6a5f\\u738b', 13),\n",
       " (u'\\u6aa2\\u8209', 13),\n",
       " (u'\\u5531', 13),\n",
       " (u'\\u81f4\\u8a5e', 13),\n",
       " (u'\\u524d', 13),\n",
       " (u'\\u7576\\u521d', 13),\n",
       " (u'\\u7661', 13),\n",
       " (u'^', 13),\n",
       " (u'\\u6211\\u89ba', 13),\n",
       " (u'\\u4e0b\\u67b6', 13),\n",
       " (u'\\u5ee2\\u7269', 13),\n",
       " (u'\\u5c31\\u7b97', 13),\n",
       " (u'\\u8ecd', 13),\n",
       " (u'\\u8868\\u793a', 13),\n",
       " (u'\\u54c7', 13),\n",
       " (u'\\u9ad8', 13),\n",
       " (u'\\u4fbf\\u5b9c', 13),\n",
       " (u'\\u5de5\\u4f5c', 13),\n",
       " (u'\\u5531\\u6b4c', 13),\n",
       " (u'\\u76e3\\u7763', 13),\n",
       " (u'\\u8d8a\\u4f86', 13),\n",
       " (u'\\u8ca1\\u5718', 13),\n",
       " (u'\\u56e0\\u70ba', 13),\n",
       " (u'\\u300d', 12),\n",
       " (u'\\u5012', 12),\n",
       " (u'\\u53ea\\u6703', 12),\n",
       " (u'\\u5e7e\\u500b', 12),\n",
       " (u'\\u86cb', 12),\n",
       " (u'\\u623f\\u9593', 12),\n",
       " (u'2016', 12),\n",
       " (u'\\u6c92\\u4eba', 12),\n",
       " (u'\\u4f5c\\u79c0', 12),\n",
       " (u'\\u4e2d', 12),\n",
       " (u'\\u5e78\\u798f', 12),\n",
       " (u'\\u6562', 12),\n",
       " (u'\\u4f46\\u662f', 12),\n",
       " (u'\\u611f\\u89ba', 12),\n",
       " (u'\\u5c41\\u8a71', 12),\n",
       " (u'\\u9047\\u5230', 12),\n",
       " (u'\\u4e0d\\u7136', 12),\n",
       " (u'\\u6b77\\u53f2', 12),\n",
       " (u'\\u5c41\\u80a1', 12),\n",
       " (u'\\u54e6', 12),\n",
       " (u'\\u6cd5\\u9662', 12),\n",
       " (u'\\u9738\\u51cc', 12),\n",
       " (u'%', 12),\n",
       " (u'\\u4e0b\\u6c11', 12),\n",
       " (u'\\u5abd\\u7684', 12),\n",
       " (u'\\u53ef\\u60e1', 12),\n",
       " (u'\\u53ef\\u6190', 12),\n",
       " (u'\\u6015', 12),\n",
       " (u'\\u5565', 12),\n",
       " (u'\\u67ef\\u6587', 12),\n",
       " (u'\\u7fa9\\u7f8e', 12),\n",
       " (u'\\u584a', 12),\n",
       " (u'\\u76f8\\u4fe1', 12),\n",
       " (u'\\u9084\\u5728', 12),\n",
       " (u'\\u53ea\\u8981', 12),\n",
       " (u'\\u9760\\u5317', 12),\n",
       " (u'\\u5b83', 12),\n",
       " (u'\\u696d\\u529b', 11),\n",
       " (u'\\u5206\\u9418', 11),\n",
       " (u'\\u6709\\u5920', 11),\n",
       " (u'\\u76f4\\u63a5', 11),\n",
       " (u'\\u6bd4\\u8f03', 11),\n",
       " (u'\\u5634', 11),\n",
       " (u'\\u5475\\u5475', 11),\n",
       " (u'\\u5047\\u7403', 11),\n",
       " (u'\\u5927\\u6982', 11),\n",
       " (u'\\u4e00\\u5e74', 11),\n",
       " (u'\\u932f', 11),\n",
       " (u'\\u641e', 11),\n",
       " (u'\\u6b38', 11),\n",
       " (u'\\u764c\\u75c7', 11),\n",
       " (u'\\u8d77\\u4f86', 11),\n",
       " (u'\\u6642', 11),\n",
       " (u'11', 11),\n",
       " (u'\\u826f\\u5fc3', 11),\n",
       " (u'\\u9b3c\\u5cf6', 11),\n",
       " (u'\\u79df', 11),\n",
       " (u'33', 11),\n",
       " (u'\\u5f97\\u5230', 11),\n",
       " (u'\\u6f54\\u6c11', 11),\n",
       " (u'\\u672c\\u4f86', 11),\n",
       " (u'\\u793e\\u6703', 11),\n",
       " (u'\\u54ea\\u500b', 11),\n",
       " (u'\\u597d\\u6158', 11),\n",
       " (u'\\u7adf\\u7136', 11),\n",
       " (u'\\u8b1d\\u8b1d', 11),\n",
       " (u'\\u9818', 11),\n",
       " (u'\\u8d85\\u626f', 11),\n",
       " (u'_', 11),\n",
       " (u'\\u7279\\u5c55', 11),\n",
       " (u'\\u98db\\u6a5f', 11),\n",
       " (u'\\u7d93\\u9577', 11),\n",
       " (u'\\u597d\\u7b11', 11),\n",
       " (u'\\u53cd\\u6b63', 10),\n",
       " (u'\\u6574\\u500b', 10),\n",
       " (u'\\u6050\\u6016', 10),\n",
       " (u'\\u6709\\u4e9b', 10),\n",
       " (u'\\u8d95\\u5feb', 10),\n",
       " (u'\\u83e9\\u85a9', 10),\n",
       " (u'22k', 10),\n",
       " (u'\\u53f0\\u5317', 10),\n",
       " (u'\\u883b', 10),\n",
       " (u'\\u62cd', 10),\n",
       " (u'\\u5b57', 10),\n",
       " (u'\\u5f8b\\u5e2b', 10),\n",
       " (u'\\u5c45\\u7136', 10),\n",
       " (u'\\u518d\\u8ac7', 10),\n",
       " (u'\\u591a\\u5c11', 10),\n",
       " (u'\\u537b', 10),\n",
       " (u'\\u6211\\u8981', 10),\n",
       " (u'\\u516c\\u5e73', 10),\n",
       " (u'XDDDDDD', 10),\n",
       " (u'\\u90dd\\u9f8d\\u658c', 10),\n",
       " (u'\\u8001\\u5a46', 10),\n",
       " (u'\\u958b\\u59cb', 10),\n",
       " (u'\\u9a19', 10),\n",
       " (u'\\u7121\\u6cd5', 10),\n",
       " (u'\\u7d50\\u679c', 10),\n",
       " (u'\\u96e3\\u602a', 10),\n",
       " (u'\\u4e0b\\u53f0', 10),\n",
       " (u'\\u5537', 10),\n",
       " (u'\\u6f58', 10),\n",
       " (u'\\u63b0', 10),\n",
       " (u'\\u751a\\u9ebc', 10),\n",
       " (u'\\u6f14', 10),\n",
       " (u'\\uff08', 10),\n",
       " (u'\\u570b\\u5bb6', 10),\n",
       " (u'\\u9084\\u597d', 10),\n",
       " (u'\\u5df2', 10),\n",
       " (u'\\u7d04', 10),\n",
       " (u'\\u8d85\\u723d', 10),\n",
       " (u'\\u9000\\u4f11', 10),\n",
       " (u'\\u98fd', 9),\n",
       " (u'X', 9),\n",
       " (u'\\u6295\\u8cc7', 9),\n",
       " (u'\\u6708\\u9818', 9),\n",
       " (u'\\u9078\\u7968', 9),\n",
       " (u'\\u5b78\\u904b', 9),\n",
       " (u'\\u9000', 9),\n",
       " (u'\\u6012\\u8cb7', 9),\n",
       " (u'\\u60f3\\u5230', 9),\n",
       " (u'\\u5947\\u602a', 9),\n",
       " (u'\\u5beb', 9),\n",
       " (u'\\u8cc7\\u6e90', 9),\n",
       " (u'\\u91ab\\u9662', 9),\n",
       " (u'\\u9084\\u8981', 9),\n",
       " (u'\\u7ffb', 9),\n",
       " (u'\\u3127', 9),\n",
       " (u'\\u60a8', 9),\n",
       " (u'\\u5c4c', 9),\n",
       " (u'\\u8f15', 9),\n",
       " (u'\\u7f75', 9),\n",
       " (u'\\u9000\\u4f11\\u91d1', 9),\n",
       " (u'\\u7d71\\u4e00', 9),\n",
       " (u'\\u53f0', 9),\n",
       " (u'\\u80fd\\u529b', 9),\n",
       " (u'689', 9),\n",
       " (u'\\u85aa\\u6c34', 9),\n",
       " (u'\\u5169\\u500b', 9),\n",
       " (u'10', 9),\n",
       " (u'\\u90a3\\u908a', 9),\n",
       " (u'\\u4ed6\\u5abd', 9),\n",
       " (u'\\uff09', 9),\n",
       " (u'\\u526f', 9),\n",
       " (u'\\u9802', 9),\n",
       " (u'\\u5410\\u53f8', 9),\n",
       " (u'\\u88dc\\u5200', 9),\n",
       " (u'\\u8cb7\\u5149', 9),\n",
       " (u'\\u4e00\\u822c', 9),\n",
       " (u'\\u5feb\\u9ede', 9),\n",
       " (u'\\u4e0d\\u5982', 9),\n",
       " (u'\\u65e9\\u9910', 9),\n",
       " (u'\\u4e0d\\u5920', 9),\n",
       " (u'ID', 9),\n",
       " (u'\\u54c8\\u54c8\\u54c8\\u54c8', 9),\n",
       " (u'\\u6bcf\\u5929', 9),\n",
       " (u'\\u5f9e', 9),\n",
       " (u'\\u6642\\u5149', 9),\n",
       " (u'\\u6436', 9),\n",
       " (u'\\u8f15\\u4eba\\u5148', 9),\n",
       " (u'1.0', 9),\n",
       " (u'\\u6c7a\\u5b9a', 9),\n",
       " (u'\\u53b2\\u5bb3', 8),\n",
       " (u'\\u8b8a', 8),\n",
       " (u'\\u7063', 8),\n",
       " (u'\\u898f\\u5b9a', 8),\n",
       " (u'\\u6731\\u7acb\\u502b', 8),\n",
       " (u'\\u56de\\u4f86', 8),\n",
       " (u'ATM', 8),\n",
       " (u'\\u5236\\u8861', 8),\n",
       " (u'\\u4e16\\u754c', 8),\n",
       " (u'\\u9700\\u8981', 8),\n",
       " (u'\\u592a\\u597d\\u4e86', 8),\n",
       " (u'\\u5916\\u578b', 8),\n",
       " (u'\\u9999\\u5ddd', 8),\n",
       " (u'\\u600e\\u6a23', 8),\n",
       " (u'\\u6f58\\u88d5\\u6587', 8),\n",
       " (u'\\u8cbc', 8),\n",
       " (u'\\u4e3b\\u5e2d', 8),\n",
       " (u'\\u6587\\u6b63', 8),\n",
       " (u'XDDDDDDDDDD', 8),\n",
       " (u'\\u79d1\\u79d1', 8),\n",
       " (u'\\u529b', 8),\n",
       " (u'\\u5be6\\u529b', 8),\n",
       " (u'\\u800c\\u4e14', 8),\n",
       " (u'\\u7a81\\u7136', 8),\n",
       " (u'\\u6a5f\\u6703', 8),\n",
       " (u'\\u5403\\u5c4e', 8),\n",
       " (u'\\u958b', 8),\n",
       " (u'\\u9214\\u7968', 8),\n",
       " (u'p', 8),\n",
       " (u'3', 8),\n",
       " (u'\\u653e\\u5927', 8),\n",
       " (u'\\u767d', 8),\n",
       " (u'\\u5f71\\u97ff', 8),\n",
       " (u'\\u898b', 8),\n",
       " (u'\\u7b97\\u662f', 8),\n",
       " (u'\\u9019\\u623f', 8),\n",
       " (u'XDDDDDDDDD', 8),\n",
       " (u'\\u963f\\u5b24', 8),\n",
       " (u'\\u91ab\\u751f', 8),\n",
       " (u'\\u4eba\\u6c11', 8),\n",
       " (u'\\u9109\\u6c11', 8),\n",
       " (u'\\u9ed1', 8),\n",
       " (u'\\u9084\\u6bd4', 8),\n",
       " (u'\\u310f', 8),\n",
       " (u'\\u5c01\\u53e3', 8),\n",
       " (u'\\u4e45', 8),\n",
       " (u'\\u5225\\u4eba', 8),\n",
       " (u'\\u4ec7\\u5bcc', 8),\n",
       " (u'\\u859b', 8),\n",
       " (u'\\u4e0a\\u9762', 8),\n",
       " (u'\\u7d05\\u660e\\u986f', 8),\n",
       " (u'\\u4e0d\\u60f3', 8),\n",
       " (u'\\u5a92\\u9ad4', 8),\n",
       " (u'\\u958b\\u5fc3', 8),\n",
       " (u'\\u65e2\\u5f97\\u5229\\u76ca\\u8005', 8),\n",
       " (u'\\u74b0\\u5883', 8),\n",
       " (u'\\u53ef\\u662f', 8),\n",
       " (u'\\u5c0f\\u5fc3', 8),\n",
       " (u'\\u9084\\u4ee5', 8),\n",
       " (u'\\u7576\\u7136', 8),\n",
       " (u'\\u822a\\u7a7a', 8),\n",
       " (u'\\u8d85\\u7d1a', 8),\n",
       " (u'\\u8a0e\\u8ad6', 8),\n",
       " (u'\\u7acb\\u59d4', 8),\n",
       " (u'\\u5509', 8),\n",
       " (u'\\u57f7\\u653f', 8),\n",
       " (u'\\u8f14\\u5927', 8),\n",
       " (u'\\u544a', 8),\n",
       " (u'\\u5076\\u50cf', 8),\n",
       " (u'\\u770b\\u4f86', 7),\n",
       " (u'DPP', 7),\n",
       " (u'\\u8a8d\\u8b49', 7),\n",
       " (u'\\u9023', 7),\n",
       " (u'\\u6d6a\\u8cbb', 7),\n",
       " (u'\\u5e25', 7),\n",
       " (u'2', 7),\n",
       " (u'\\u5236\\u88c1', 7),\n",
       " (u'\\u54a7', 7),\n",
       " (u'\\u60e1\\u8cea', 7),\n",
       " (u'\\u795e\\u626f', 7),\n",
       " (u'\\u55ef', 7),\n",
       " (u'318', 7),\n",
       " (u'591', 7),\n",
       " (u'\\u5206', 7),\n",
       " (u'\\u5dee\\u4e0d\\u591a', 7),\n",
       " (u'\\u7ad9', 7),\n",
       " (u'\\u6b63', 7),\n",
       " (u'\\u767c\\u5c55', 7),\n",
       " (u'\\u52a0', 7),\n",
       " (u'\\u5c55\\u89bd', 7),\n",
       " (u'\\u4e00\\u4e9b', 7),\n",
       " (u'\\u904e', 7),\n",
       " (u'\\u7c21\\u55ae', 7),\n",
       " (u'\\u5c31\\u8981', 7),\n",
       " (u'\\u660e\\u5e74', 7),\n",
       " (u'\\u662f\\u4e0d\\u662f', 7),\n",
       " (u'\\u65e9\\u5c31', 7),\n",
       " (u'\\u7279\\u8272', 7),\n",
       " (u'\\u9084\\u80fd', 7),\n",
       " (u'\\u6700\\u597d', 7),\n",
       " (u'\\u4fc2', 7),\n",
       " (u'\\u6d3b\\u83e9\\u85a9', 7),\n",
       " (u'\\u5f35', 7),\n",
       " (u'\\u6642\\u9593', 7),\n",
       " (u'ya', 7),\n",
       " (u'XDDDDDDD', 7),\n",
       " (u'\\u5927\\u662f\\u5927\\u975e', 7),\n",
       " (u'\\u6a19\\u6e96', 7),\n",
       " (u'\\u54ea\\u88e1', 7),\n",
       " (u'\\u5efa\\u8b70', 7),\n",
       " (u'\\u7c3d\\u7d04', 7),\n",
       " (u'\\u9b3c', 7),\n",
       " (u'\\u7d42\\u65bc', 7),\n",
       " (u'\\u6545\\u610f', 7),\n",
       " (u'\\u9d3f\\u5b50', 7),\n",
       " (u'\\u652f\\u90a3', 7),\n",
       " (u'\\u7e3d\\u7d71', 7),\n",
       " (u'\\u7537', 7),\n",
       " (u'\\u5805\\u6301', 7),\n",
       " (u'\\u5a36', 7),\n",
       " (u'\\u6587', 7),\n",
       " (u'\\u72d7', 7),\n",
       " (u'der', 7),\n",
       " (u'\\u5c55\\u793a', 7),\n",
       " (u'\\u6b4c\\u624b', 7),\n",
       " (u'\\u990a', 7),\n",
       " (u'\\u6c11\\u9032', 7),\n",
       " (u'\\u54ed', 7),\n",
       " (u'\\u53bb\\u5e74', 7),\n",
       " (u'\\u8655\\u7406', 7),\n",
       " (u'\\u4e2d\\u570b', 7),\n",
       " (u'\\u96e2\\u958b', 7),\n",
       " (u'\\u6210', 7),\n",
       " (u'\\u5c41', 7),\n",
       " (u'\\u516c\\u5347', 7),\n",
       " (u'\\u6848\\u4f8b', 7),\n",
       " (u'\\u4e0d\\u540c', 7),\n",
       " (u'\\u6771\\u897f', 7),\n",
       " (u'\\u90dd', 7),\n",
       " (u'\\u78c1\\u5834', 7),\n",
       " (u'\\u610f\\u601d', 7),\n",
       " (u'\\u4e0d\\u597d', 7),\n",
       " (u'\\u7af6\\u722d\\u529b', 7),\n",
       " (u'\\u5e63\\u503c', 7),\n",
       " (u'\\u597d\\u723d', 7),\n",
       " (u'\\u8a50', 7),\n",
       " (u'\\u8fa6\\u6cd5', 7),\n",
       " (u'\\u5de5\\u5546', 7),\n",
       " (u'\\u5dee', 7),\n",
       " (u'\\u721b', 7),\n",
       " (u'\\u6700\\u8fd1', 7),\n",
       " (u'\\u5730\\u74dc', 7),\n",
       " (u'\\u7b2c\\u4e8c', 6),\n",
       " (u'\\u7ffb\\u8b6f', 6),\n",
       " (u'\\u53cd', 6),\n",
       " (u'\\u91cd\\u9ede', 6),\n",
       " (u'\\u81ed', 6),\n",
       " (u'\\u5168\\u90e8', 6),\n",
       " (u'\\u9019\\u5f35', 6),\n",
       " (u'\\u5b50\\u5b6b', 6),\n",
       " (u'push', 6),\n",
       " (u'\\u7236\\u6bcd', 6),\n",
       " (u'\\u7f8e\\u7684', 6),\n",
       " (u'\\u904e\\u53bb', 6),\n",
       " (u'\\u52de\\u5de5', 6),\n",
       " (u'\\u9806\\u4fbf', 6),\n",
       " (u'6', 6),\n",
       " (u'\\u53ef', 6),\n",
       " (u'\\u8d85\\u904e', 6),\n",
       " (u'\\u8655', 6),\n",
       " (u'\\u5047', 6),\n",
       " (u'\\u6216\\u662f', 6),\n",
       " (u'\\u52a0\\u5165', 6),\n",
       " (u'\\u5730', 6),\n",
       " (u'\\u558a', 6),\n",
       " (u'\\u7121', 6),\n",
       " (u'++', 6),\n",
       " (u'\\u66b4\\u6c11', 6),\n",
       " (u'\\u597d\\u5947', 6),\n",
       " (u'\\u9928', 6),\n",
       " (u'www', 6),\n",
       " (u'\\u6b4c', 6),\n",
       " (u'\\u592a\\u795e', 6),\n",
       " (u'\\u96aa', 6),\n",
       " (u'\\u4e0a\\u73ed', 6),\n",
       " (u'\\u8f15\\u4eba\\u8981', 6),\n",
       " (u'\\u4e0a\\u6b21', 6),\n",
       " (u'\\u6eff', 6),\n",
       " (u'\\u6628\\u5929', 6),\n",
       " (u'\\u8349\\u8393', 6),\n",
       " (u'\\u51fa\\u53f0', 6),\n",
       " (u'\\u4eba\\u982d', 6),\n",
       " (u'\\u66ff', 6),\n",
       " (u'\\u4e00\\u53e5', 6),\n",
       " (u'\\u771f\\u6b63', 6),\n",
       " (u'\\u591a\\u4e45', 6),\n",
       " (u'\\u7b49\\u5230', 6),\n",
       " (u'\\u68d2\\u68d2', 6),\n",
       " (u'\\u4f60\\u8d0f', 6),\n",
       " (u'\\u53cd\\u5546', 6),\n",
       " (u'\\u9084\\u6562', 6),\n",
       " (u'\\u6bba', 6),\n",
       " (u'\\u540d\\u4e0b', 6),\n",
       " (u'\\u5305\\u88dd', 6),\n",
       " (u'\\u60f3\\u8981', 6),\n",
       " (u'\\u7e73\\u7a05', 6),\n",
       " (u'\\u88dc', 6),\n",
       " (u'\\u7761', 6),\n",
       " (u'\\u53f0\\u5317\\u5e02', 6),\n",
       " (u'\\u5fd7\\u73b2', 6),\n",
       " (u'\\u5317\\u7f8e', 6),\n",
       " (u'18', 6),\n",
       " (u'\\u8def', 6),\n",
       " (u'\\u9ad8\\u4e0b', 6),\n",
       " (u'\\u9053', 6),\n",
       " (u'\\u5370\\u8c61', 6),\n",
       " (u'\\u4e82', 6),\n",
       " (u'\\u4eba\\u624d', 6),\n",
       " (u'\\u5e36', 6),\n",
       " (u'\\u5f71\\u7247', 6),\n",
       " (u'\\u5c40\\u9577', 6),\n",
       " (u'XX', 6),\n",
       " (u'\\u66f2', 6),\n",
       " (u'\\u64fa', 6),\n",
       " (u'\\u9019\\u4e09\\u5c0f', 6),\n",
       " (u'\\u4e0d\\u6015', 6),\n",
       " (u'\\u5973', 6),\n",
       " (u'FB', 6),\n",
       " (u'\\u53ef\\u60b2', 6),\n",
       " (u'\\u597d\\u597d', 6),\n",
       " (u'\\u807d\\u904e', 6),\n",
       " (u'\\u5229\\u76ca', 6),\n",
       " (u'\\u5653\\u6587', 6),\n",
       " (u'\\u7136', 6),\n",
       " (u'\\u5206\\u4eab', 6),\n",
       " (u'\\u7576\\u7576', 6),\n",
       " (u'R', 6),\n",
       " (u'\\u310e', 6),\n",
       " (u'\\u6478\\u5976', 6),\n",
       " (u'\\u731b', 6),\n",
       " (u'54', 6),\n",
       " (u'\\u51fa', 6),\n",
       " (u'\\u9676', 6),\n",
       " (u'\\u7ca5', 6),\n",
       " (u'\\u5730\\u65b9', 6),\n",
       " (u'\\u5bb9\\u6613', 6),\n",
       " (u'\\u6545\\u4e8b', 6),\n",
       " (u'\\u5b24', 6),\n",
       " (u'\\u73a9', 6),\n",
       " (u'\\u96bb', 6),\n",
       " (u'XDDDDDDDDDDDD', 6),\n",
       " (u'\\u5b78', 6),\n",
       " (u'\\u7576\\u6642', 6),\n",
       " (u'\\u7c73', 6),\n",
       " (u'\\u6240\\u6709', 6),\n",
       " (u'\\u5f88\\u5f37', 6),\n",
       " (u'pavone', 6),\n",
       " (u'\\u5149\\u6cc9', 6),\n",
       " (u'M', 6),\n",
       " (u'\\u653e', 6),\n",
       " (u'\\u611b', 6),\n",
       " (u'132', 6),\n",
       " (u'\\u89e3\\u6c7a', 6),\n",
       " (u'\\u4e0d\\u6127', 6),\n",
       " (u'\\u5446', 6),\n",
       " (u'\\u9632\\u764c', 6),\n",
       " (u'\\u65b9\\u4fbf', 6),\n",
       " (u'\\u9905\\u59b9', 6),\n",
       " (u'\\u6b63\\u5e38', 5),\n",
       " (u'\\u6a13\\u4e0b', 5),\n",
       " (u'\\u4e00\\u7fa4', 5),\n",
       " (u'\\u76f8', 5),\n",
       " (u'\\u821e\\u53f0', 5),\n",
       " (u'\\u7bc0\\u8036', 5),\n",
       " (u'\\u5404\\u7a2e', 5),\n",
       " (u'\\u9019\\u4f4d', 5),\n",
       " (u'\\u9014\\u5f91', 5),\n",
       " (u'\\u4e8b\\u5be6', 5),\n",
       " (u'\\u592a\\u591a', 5),\n",
       " (u'\\u4e0a\\u53bb', 5),\n",
       " (u'\\u6c92\\u8ca1\\u7522', 5),\n",
       " (u'\\u7167', 5),\n",
       " (u'\\u6eff\\u798f\\u5821', 5),\n",
       " (u'\\u518d\\u4f86', 5),\n",
       " (u'\\u771f\\u5fc3', 5),\n",
       " (u'I', 5),\n",
       " (u'\\u525b\\u525b', 5),\n",
       " (u'\\u767c\\u73fe', 5),\n",
       " (u'\\u8a50\\u9a19', 5),\n",
       " (u'\\u57ae', 5),\n",
       " (u'\\u88fd', 5),\n",
       " (u'\\u8072\\u97f3', 5),\n",
       " (u'\\u6c92\\u79ae\\u8c8c', 5),\n",
       " (u'\\u8981\\u6c42', 5),\n",
       " (u'\\u70ba\\u4f55', 5),\n",
       " (u'\\u9019\\u4e5f', 5),\n",
       " (u'\\u96d6\\u7136', 5),\n",
       " (u'\\u7121\\u9650', 5),\n",
       " (u'\\u9673', 5),\n",
       " (u'\\u96d9\\u5361\\u6a5f', 5),\n",
       " (u'\\u5feb\\u53bb', 5),\n",
       " (u'\\u8981\\u653e', 5),\n",
       " (u'\\u7368\\u5927', 5),\n",
       " (u'\\u660e\\u5929', 5),\n",
       " (u'\\u7cbe', 5),\n",
       " (u'\\u624d\\u80fd', 5),\n",
       " (u'\\u7fa9\\u7f8e\\u8c46', 5),\n",
       " (u'\\u7dfb', 5),\n",
       " (u'\\u653e\\u5230', 5),\n",
       " (u'\\u8b8a\\u6210', 5),\n",
       " (u'\\u4e16\\u5805', 5),\n",
       " (u'\\u671d\\u8056', 5),\n",
       " (u'\\u653e\\u5c41', 5),\n",
       " (u'\\u4e3b\\u984c', 5),\n",
       " (u'\\u52d2', 5),\n",
       " (u'\\u7cbe\\u795e', 5),\n",
       " (u'\\u82b1', 5),\n",
       " (u'\\uff38', 5),\n",
       " (u'\\u5167', 5),\n",
       " (u'\\u4e3b\\u6301', 5),\n",
       " (u'\\u670b\\u53cb', 5),\n",
       " (u'\\u770b\\u623f', 5),\n",
       " (u'\\u5176\\u4ed6\\u4eba', 5),\n",
       " (u'\\u7d66\\u63a8', 5),\n",
       " (u'\\u6c92\\u5dee', 5),\n",
       " (u'\\u5361\\u5361', 5),\n",
       " (u'\\u592a\\u6158', 5),\n",
       " (u'\\u5831', 5),\n",
       " (u'\\u4e8b\\u60c5', 5),\n",
       " (u'\\u7d71\\u4e8c', 5),\n",
       " (u'\\u795e', 5),\n",
       " (u'\\u547c\\u5438', 5),\n",
       " (u'\\u501f', 5),\n",
       " (u'\\u554a\\u554a\\u554a', 5),\n",
       " (u'\\u5b87\\u5b99', 5),\n",
       " (u'\\u6b21', 5),\n",
       " (u'\\u6012', 5),\n",
       " (u'\\u9019\\u624d', 5),\n",
       " (u'\\u653f\\u7b56', 5),\n",
       " (u'\\u51fa\\u53bb', 5),\n",
       " (u'\\u65e5\\u672c', 5),\n",
       " (u'\\u91cd\\u8981', 5),\n",
       " (u'\\u4e0a\\u67b6', 5),\n",
       " (u'\\u5e6b\\u52a9', 5),\n",
       " (u'\\u653e\\u5929\\u71c8', 5),\n",
       " (u'\\u6210\\u529f', 5),\n",
       " (u'\\u7acb\\u5224', 5),\n",
       " (u'\\u6bcf\\u6b21', 5),\n",
       " (u'\\u5ee2\\u6587', 5),\n",
       " (u'\\u4f69\\u670d', 5),\n",
       " (u'\\u66fe\\u6c9b\\u6148', 5),\n",
       " (u'\\u8fa6\\u5c55', 5),\n",
       " (u'\\u856d', 5),\n",
       " (u'0', 5),\n",
       " (u'\\u7576\\u5e74', 5),\n",
       " (u'\\u4e0d\\u7d05', 5),\n",
       " (u'\\uff24', 5),\n",
       " (u'\\u9019\\u908a', 5),\n",
       " (u'\\u96fb\\u8996', 5),\n",
       " (u'\\u5148\\u53bb', 5),\n",
       " (u'\\u53e6', 5),\n",
       " (u'\\u5bb3', 5),\n",
       " (u'\\u5410', 5),\n",
       " (u'\\u597d\\u4eba', 5),\n",
       " (u'\\u5916\\u7701\\u4eba', 5),\n",
       " (u'\\u641e\\u4e0d\\u597d', 5),\n",
       " (u'\\u5dee\\u5225', 5),\n",
       " (u'20', 5),\n",
       " (u'good', 5),\n",
       " (u'\\u5609\\u745c', 5),\n",
       " (u'\\u4efd', 5),\n",
       " (u'\\u6d3b', 5),\n",
       " (u'\\u6293\\u5230', 5),\n",
       " (u'\\u4ed8\\u51fa', 5),\n",
       " (u'\\u4f8b\\u5b50', 5),\n",
       " (u'\\u5de5\\u6cd5', 5),\n",
       " (u'39', 5),\n",
       " (u'\\u642c\\u8d70', 5),\n",
       " (u'\\u7834\\u58de', 5),\n",
       " (u'\\u60e1\\u52a3', 5),\n",
       " (u'\\u5236\\u5ea6', 5),\n",
       " (u'\\u86cb\\u767d', 5),\n",
       " (u'\\u98ef', 5),\n",
       " (u'\\u6709\\u8da3', 5),\n",
       " (u'\\u7d9c\\u85dd', 5),\n",
       " (u'\\u5c4b\\u4e3b', 5),\n",
       " (u'\\u9084\\u4e0d', 5),\n",
       " (u'\\u8acb\\u554f', 5),\n",
       " (u'\\u5420', 5),\n",
       " (u'\\u5c11', 5),\n",
       " (u'\\u611f\\u52d5', 5),\n",
       " (u'\\u4e2d\\u570b\\u9ee8', 5),\n",
       " (u'\\u62d2\\u99ac', 5),\n",
       " (u'\\u7236\\u89aa', 5),\n",
       " (u'\\u4e16\\u9298', 5),\n",
       " (u'\\u60e1\\u623f', 5),\n",
       " (u'\\u8b1b\\u8a71', 5),\n",
       " (u'\\u7121\\u7cd6', 5),\n",
       " (u'\\u6ce8\\u610f', 5),\n",
       " (u'\\u7d05\\u886b', 5),\n",
       " (u'\\u5f88\\u5927', 5),\n",
       " (u'\\u5438\\u8840', 5),\n",
       " (u'\\u8a8d\\u70ba', 5),\n",
       " (u'\\u80a5\\u8c93', 5),\n",
       " (u'\\u4e00\\u908a', 5),\n",
       " (u'\\u4e0d\\u4e86', 5),\n",
       " (u'\\u6b3a', 5),\n",
       " (u'\\u5149\\u662f', 5),\n",
       " (u'\\u8667', 5),\n",
       " (u'\\u671f\\u5f85', 5),\n",
       " (u'\\u54f2', 5),\n",
       " (u'\\u9047\\u904e', 4),\n",
       " (u'\\u6a13\\u4e0a', 4),\n",
       " (u'\\u5feb\\u4f86', 4),\n",
       " (u'XDDDDDDDDDDDDDDDDDDDDDDDD', 4),\n",
       " (u'\\u5d29', 4),\n",
       " (u'\\u76ee\\u524d', 4),\n",
       " (u'\\u6316', 4),\n",
       " (u'\\u5e79\\u561b', 4),\n",
       " (u'\\u70ba\\u5bcc', 4),\n",
       " (u'\\u6cd5\\u5b98', 4),\n",
       " (u'\\u8cb4', 4),\n",
       " (u'\\u8db4', 4),\n",
       " (u'\\u63a8\\u5c08\\u696d', 4),\n",
       " (u'\\u5049\\u5927', 4),\n",
       " (u'\\u5931\\u6557', 4),\n",
       " (u'\\u5e73\\u5e38', 4),\n",
       " (u'\\u7e3d', 4),\n",
       " (u'\\u963f\\u6241', 4),\n",
       " (u'\\u524d\\u9762', 4),\n",
       " (u'\\u96e2', 4),\n",
       " (u'\\u9ebb\\u7169', 4),\n",
       " (u'\\u6587\\u7ae0', 4),\n",
       " (u'\\u7121\\u8aa4', 4),\n",
       " (u'\\u5bcc\\u4eba', 4),\n",
       " (u'\\u60b2\\u54c0', 4),\n",
       " (u'\\u80af\\u5b9a', 4),\n",
       " (u'\\u51b0\\u51b0', 4),\n",
       " (u'\\u6c92\\u8fa6\\u6cd5', 4),\n",
       " (u'\\u653f\\u6cbb', 4),\n",
       " (u'\\u7236\\u89aa\\u7bc0', 4),\n",
       " (u'\\u5366', 4),\n",
       " (u'\\u901a\\u544a', 4),\n",
       " (u'\\u5e7e\\u4e4e', 4),\n",
       " (u'\\u9664\\u4e86', 4),\n",
       " (u'\\u7d05\\u7684', 4),\n",
       " (u'\\u5fcd', 4),\n",
       " (u'\\u6731', 4),\n",
       " (u'\\u56b4\\u91cd', 4),\n",
       " (u'\\u4e56', 4),\n",
       " (u'\\u592a\\u5f37', 4),\n",
       " (u'\\u667a\\u969c', 4),\n",
       " (u'XDDDDDDDDDDDDDDDDDDDDDD', 4),\n",
       " (u'\\u4e00\\u7bc7', 4),\n",
       " (u'\\u6700\\u5f8c\\u4e00\\u5f35', 4),\n",
       " (u'\\u8def\\u4e0a', 4),\n",
       " (u'\\u65e5', 4),\n",
       " (u'\\u963f\\u8332\\u6d77\\u9ed8\\u75c7', 4),\n",
       " (u'\\u6230\\u795e', 4),\n",
       " (u'\\u7b49\\u7b49', 4),\n",
       " (u'\\u4e94\\u6a13', 4),\n",
       " (u'\\u585e', 4),\n",
       " (u'\\u8cc7\\u65b9', 4),\n",
       " (u'\\u62ce', 4),\n",
       " (u'\\u8ca2\\u737b', 4),\n",
       " (u'\\u65e9', 4),\n",
       " (u'\\u5468\\u5b9a', 4),\n",
       " (u'\\u5e74\\u4ee3', 4),\n",
       " (u'330', 4),\n",
       " (u'\\u5be6\\u5728', 4),\n",
       " (u'\\u81ea\\u7136', 4),\n",
       " (u'\\u50b3\\u7d71', 4),\n",
       " (u'\\u59d4\\u4efb', 4),\n",
       " (u'\\u9817', 4),\n",
       " (u'XDDDDDDDDDDDDDDDDDDD', 4),\n",
       " (u'\\u8981\\u662f', 4),\n",
       " (u'\\u6f14\\u85dd\\u5708', 4),\n",
       " (u'\\u653e\\u68c4', 4),\n",
       " (u'\\u6295', 4),\n",
       " (u'ing', 4),\n",
       " (u'\\u5929\\u4f7f', 4),\n",
       " (u'\\u932f\\u8aa4', 4),\n",
       " (u'\\u665a\\u4e0a', 4),\n",
       " (u'\\u4e4b\\u985e', 4),\n",
       " (u'\\u571f\\u53f8', 4),\n",
       " (u'\\u9084\\u4e0d\\u932f', 4),\n",
       " (u'\\u85aa\\u8cc7', 4),\n",
       " (u'\\u706b\\u817f', 4),\n",
       " (u'B', 4),\n",
       " (u'\\u689d\\u4ef6', 4),\n",
       " (u'\\u4e00\\u4efd', 4),\n",
       " (u'\\u6797', 4),\n",
       " (u'\\u8c46', 4),\n",
       " (u'\\u8eab\\u4e0a', 4),\n",
       " (u'\\u8b1b\\u5ee2\\u8a71', 4),\n",
       " (u'\\u6709\\u75c5', 4),\n",
       " (u'\\u9019\\u7fa4', 4),\n",
       " (u'\\u5ae9', 4),\n",
       " (u'\\u8fd1\\u5728\\u773c\\u524d', 4),\n",
       " (u'\\u4f5b', 4),\n",
       " (u'\\u50bb', 4),\n",
       " (u'\\u9001', 4),\n",
       " (u'\\u5de5\\u8b80', 4),\n",
       " (u'\\u6709\\u7a2e', 4),\n",
       " (u'\\u5922', 4),\n",
       " (u'\\u78ba\\u5b9a', 4),\n",
       " (u'\\u696d', 4),\n",
       " (u'xx', 4),\n",
       " (u'\\u4e4b\\u4e00', 4),\n",
       " (u'\\u96c6\\u5718', 4),\n",
       " (u'\\u5c08\\u696d\\u6587', 4),\n",
       " (u'\\u53ea\\u597d', 4),\n",
       " (u'\\u5ba2\\u8a34', 4),\n",
       " (u'\\u4e0d\\u9858', 4),\n",
       " (u'\\u9032\\u9ee8', 4),\n",
       " (u'\\u9760\\u80cc', 4),\n",
       " (u'\\u54ed\\u54ed', 4),\n",
       " (u'\\u5404\\u4f4d', 4),\n",
       " (u'\\u9019\\u6bb5', 4),\n",
       " (u'\\u544a\\u6b7b', 4),\n",
       " (u'\\u4fbf\\u5229\\u5546\\u5e97', 4),\n",
       " (u'\\u904e\\u6c23', 4),\n",
       " (u'\\u8f14\\u5927\\u5b78\\u751f', 4),\n",
       " (u'\\u4e7e', 4),\n",
       " (u'x', 4),\n",
       " (u'\\u600e', 4),\n",
       " (u'\\u6253\\u624b', 4),\n",
       " (u'\\u8b1b\\u5230', 4),\n",
       " ...]"
      ]
     },
     "execution_count": 15,
     "metadata": {},
     "output_type": "execute_result"
    }
   ],
   "source": [
    "frequencies"
   ]
  },
  {
   "cell_type": "code",
   "execution_count": 29,
   "metadata": {
    "collapsed": false
   },
   "outputs": [],
   "source": [
    "from wordcloud import WordCloud"
   ]
  },
  {
   "cell_type": "code",
   "execution_count": 30,
   "metadata": {
    "collapsed": false
   },
   "outputs": [],
   "source": [
    "wordcloud = WordCloud(font_path=\"lihei.ttf\").generate_from_frequencies(wordCount)"
   ]
  },
  {
   "cell_type": "code",
   "execution_count": 33,
   "metadata": {
    "collapsed": false
   },
   "outputs": [
    {
     "name": "stdout",
     "output_type": "stream",
     "text": [
      "<class 'wordcloud.wordcloud.WordCloud'>\n"
     ]
    }
   ],
   "source": [
    "print(type(wordcloud))"
   ]
  },
  {
   "cell_type": "code",
   "execution_count": 32,
   "metadata": {
    "collapsed": false
   },
   "outputs": [
    {
     "data": {
      "text/plain": [
       "<matplotlib.image.AxesImage at 0x7f9e179362d0>"
      ]
     },
     "execution_count": 32,
     "metadata": {},
     "output_type": "execute_result"
    },
    {
     "data": {
      "image/png": "[encoded data removed]",
      "text/plain": [
       "<matplotlib.figure.Figure at 0x7f9e17af72d0>"
      ]
     },
     "metadata": {},
     "output_type": "display_data"
    }
   ],
   "source": [
    "import matplotlib.pyplot as plt\n",
    "%matplotlib inline\n",
    "\n",
    "plt.imshow(wordcloud)\n"
   ]
  },
  {
   "cell_type": "code",
   "execution_count": null,
   "metadata": {
    "collapsed": true
   },
   "outputs": [],
   "source": []
  },
  {
   "cell_type": "markdown",
   "metadata": {},
   "source": [
    "### (b)create table"
   ]
  },
  {
   "cell_type": "code",
   "execution_count": null,
   "metadata": {
    "collapsed": true
   },
   "outputs": [],
   "source": [
    "################### You should feed SQL here########################\n",
    "cursor.execute(\"\")\n",
    "################### You should feed SQL here########################\n",
    "con.commit()\n"
   ]
  },
  {
   "cell_type": "markdown",
   "metadata": {},
   "source": [
    "### (c)insert table\n"
   ]
  },
  {
   "cell_type": "code",
   "execution_count": null,
   "metadata": {
    "collapsed": true
   },
   "outputs": [],
   "source": [
    "################### You should feed SQL here########################\n",
    "cursor.execute(\"\")\n",
    "################### You should feed SQL here########################\n",
    "con.commit()\n"
   ]
  },
  {
   "cell_type": "markdown",
   "metadata": {},
   "source": [
    "### (d)del table\n"
   ]
  },
  {
   "cell_type": "code",
   "execution_count": null,
   "metadata": {
    "collapsed": true
   },
   "outputs": [],
   "source": [
    "################### You should feed SQL here########################\n",
    "cursor.execute(\"\")\n",
    "################### You should feed SQL here########################\n",
    "con.commit()\n"
   ]
  }
 ],
 "metadata": {
  "kernelspec": {
   "display_name": "Python [Root]",
   "language": "python",
   "name": "Python [Root]"
  },
  "language_info": {
   "codemirror_mode": {
    "name": "ipython",
    "version": 2
   },
   "file_extension": ".py",
   "mimetype": "text/x-python",
   "name": "python",
   "nbconvert_exporter": "python",
   "pygments_lexer": "ipython2",
   "version": "2.7.12"
  }
 },
 "nbformat": 4,
 "nbformat_minor": 0
}
